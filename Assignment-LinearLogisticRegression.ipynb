{
 "cells": [
  {
   "cell_type": "markdown",
   "id": "7c923009",
   "metadata": {
    "colab_type": "text",
    "id": "0MRC0e0KhQ0S"
   },
   "source": [
    "# Linear and Logistic Regression"
   ]
  },
  {
   "cell_type": "markdown",
   "id": "7c57266e",
   "metadata": {
    "colab_type": "text",
    "id": "LWd1UlMnhT2s"
   },
   "source": [
    "## Importing the libraries"
   ]
  },
  {
   "cell_type": "code",
   "execution_count": 1,
   "id": "927f153c",
   "metadata": {},
   "outputs": [],
   "source": [
    "import pandas as pd\n",
    "import matplotlib.pyplot as plt\n",
    "import seaborn as sns\n",
    "import numpy as np"
   ]
  },
  {
   "cell_type": "code",
   "execution_count": null,
   "id": "94fcd305",
   "metadata": {},
   "outputs": [],
   "source": []
  },
  {
   "cell_type": "markdown",
   "id": "4c9f37b8",
   "metadata": {
    "colab_type": "text",
    "id": "K1VMqkGvhc3-"
   },
   "source": [
    "## Importing the dataset"
   ]
  },
  {
   "cell_type": "code",
   "execution_count": 2,
   "id": "b3dc6012",
   "metadata": {},
   "outputs": [],
   "source": [
    "dataset=pd.read_csv(\"HRV.csv\")"
   ]
  },
  {
   "cell_type": "code",
   "execution_count": null,
   "id": "8c0a0ed6",
   "metadata": {},
   "outputs": [],
   "source": []
  },
  {
   "cell_type": "markdown",
   "id": "9dba4163",
   "metadata": {},
   "source": [
    "## Dataset Preprocessing"
   ]
  },
  {
   "cell_type": "code",
   "execution_count": 3,
   "id": "62e7690f",
   "metadata": {},
   "outputs": [
    {
     "name": "stdout",
     "output_type": "stream",
     "text": [
      "<class 'pandas.core.frame.DataFrame'>\n",
      "RangeIndex: 4234 entries, 0 to 4233\n",
      "Data columns (total 10 columns):\n",
      " #   Column         Non-Null Count  Dtype  \n",
      "---  ------         --------------  -----  \n",
      " 0   male           4234 non-null   int64  \n",
      " 1   age            4234 non-null   int64  \n",
      " 2   currentSmoker  4234 non-null   int64  \n",
      " 3   totChol        4184 non-null   float64\n",
      " 4   sysBP          4234 non-null   float64\n",
      " 5   diaBP          4234 non-null   float64\n",
      " 6   BMI            4215 non-null   float64\n",
      " 7   heartRate      4233 non-null   float64\n",
      " 8   glucose        3847 non-null   float64\n",
      " 9   TenYearCHD     4234 non-null   int64  \n",
      "dtypes: float64(6), int64(4)\n",
      "memory usage: 330.9 KB\n"
     ]
    }
   ],
   "source": [
    "dataset.info()"
   ]
  },
  {
   "cell_type": "code",
   "execution_count": 4,
   "id": "8271e44a",
   "metadata": {},
   "outputs": [
    {
     "data": {
      "text/html": [
       "<div>\n",
       "<style scoped>\n",
       "    .dataframe tbody tr th:only-of-type {\n",
       "        vertical-align: middle;\n",
       "    }\n",
       "\n",
       "    .dataframe tbody tr th {\n",
       "        vertical-align: top;\n",
       "    }\n",
       "\n",
       "    .dataframe thead th {\n",
       "        text-align: right;\n",
       "    }\n",
       "</style>\n",
       "<table border=\"1\" class=\"dataframe\">\n",
       "  <thead>\n",
       "    <tr style=\"text-align: right;\">\n",
       "      <th></th>\n",
       "      <th>male</th>\n",
       "      <th>age</th>\n",
       "      <th>currentSmoker</th>\n",
       "      <th>totChol</th>\n",
       "      <th>sysBP</th>\n",
       "      <th>diaBP</th>\n",
       "      <th>BMI</th>\n",
       "      <th>heartRate</th>\n",
       "      <th>glucose</th>\n",
       "      <th>TenYearCHD</th>\n",
       "    </tr>\n",
       "  </thead>\n",
       "  <tbody>\n",
       "    <tr>\n",
       "      <th>0</th>\n",
       "      <td>False</td>\n",
       "      <td>False</td>\n",
       "      <td>False</td>\n",
       "      <td>False</td>\n",
       "      <td>False</td>\n",
       "      <td>False</td>\n",
       "      <td>False</td>\n",
       "      <td>False</td>\n",
       "      <td>False</td>\n",
       "      <td>False</td>\n",
       "    </tr>\n",
       "    <tr>\n",
       "      <th>1</th>\n",
       "      <td>False</td>\n",
       "      <td>False</td>\n",
       "      <td>False</td>\n",
       "      <td>False</td>\n",
       "      <td>False</td>\n",
       "      <td>False</td>\n",
       "      <td>False</td>\n",
       "      <td>False</td>\n",
       "      <td>False</td>\n",
       "      <td>False</td>\n",
       "    </tr>\n",
       "    <tr>\n",
       "      <th>2</th>\n",
       "      <td>False</td>\n",
       "      <td>False</td>\n",
       "      <td>False</td>\n",
       "      <td>False</td>\n",
       "      <td>False</td>\n",
       "      <td>False</td>\n",
       "      <td>False</td>\n",
       "      <td>False</td>\n",
       "      <td>False</td>\n",
       "      <td>False</td>\n",
       "    </tr>\n",
       "    <tr>\n",
       "      <th>3</th>\n",
       "      <td>False</td>\n",
       "      <td>False</td>\n",
       "      <td>False</td>\n",
       "      <td>False</td>\n",
       "      <td>False</td>\n",
       "      <td>False</td>\n",
       "      <td>False</td>\n",
       "      <td>False</td>\n",
       "      <td>False</td>\n",
       "      <td>False</td>\n",
       "    </tr>\n",
       "    <tr>\n",
       "      <th>4</th>\n",
       "      <td>False</td>\n",
       "      <td>False</td>\n",
       "      <td>False</td>\n",
       "      <td>False</td>\n",
       "      <td>False</td>\n",
       "      <td>False</td>\n",
       "      <td>False</td>\n",
       "      <td>False</td>\n",
       "      <td>False</td>\n",
       "      <td>False</td>\n",
       "    </tr>\n",
       "    <tr>\n",
       "      <th>...</th>\n",
       "      <td>...</td>\n",
       "      <td>...</td>\n",
       "      <td>...</td>\n",
       "      <td>...</td>\n",
       "      <td>...</td>\n",
       "      <td>...</td>\n",
       "      <td>...</td>\n",
       "      <td>...</td>\n",
       "      <td>...</td>\n",
       "      <td>...</td>\n",
       "    </tr>\n",
       "    <tr>\n",
       "      <th>4229</th>\n",
       "      <td>False</td>\n",
       "      <td>False</td>\n",
       "      <td>False</td>\n",
       "      <td>False</td>\n",
       "      <td>False</td>\n",
       "      <td>False</td>\n",
       "      <td>False</td>\n",
       "      <td>False</td>\n",
       "      <td>False</td>\n",
       "      <td>False</td>\n",
       "    </tr>\n",
       "    <tr>\n",
       "      <th>4230</th>\n",
       "      <td>False</td>\n",
       "      <td>False</td>\n",
       "      <td>False</td>\n",
       "      <td>False</td>\n",
       "      <td>False</td>\n",
       "      <td>False</td>\n",
       "      <td>False</td>\n",
       "      <td>False</td>\n",
       "      <td>False</td>\n",
       "      <td>False</td>\n",
       "    </tr>\n",
       "    <tr>\n",
       "      <th>4231</th>\n",
       "      <td>False</td>\n",
       "      <td>False</td>\n",
       "      <td>False</td>\n",
       "      <td>False</td>\n",
       "      <td>False</td>\n",
       "      <td>False</td>\n",
       "      <td>False</td>\n",
       "      <td>False</td>\n",
       "      <td>False</td>\n",
       "      <td>False</td>\n",
       "    </tr>\n",
       "    <tr>\n",
       "      <th>4232</th>\n",
       "      <td>False</td>\n",
       "      <td>False</td>\n",
       "      <td>False</td>\n",
       "      <td>False</td>\n",
       "      <td>False</td>\n",
       "      <td>False</td>\n",
       "      <td>False</td>\n",
       "      <td>False</td>\n",
       "      <td>True</td>\n",
       "      <td>False</td>\n",
       "    </tr>\n",
       "    <tr>\n",
       "      <th>4233</th>\n",
       "      <td>False</td>\n",
       "      <td>False</td>\n",
       "      <td>False</td>\n",
       "      <td>False</td>\n",
       "      <td>False</td>\n",
       "      <td>False</td>\n",
       "      <td>False</td>\n",
       "      <td>False</td>\n",
       "      <td>False</td>\n",
       "      <td>False</td>\n",
       "    </tr>\n",
       "  </tbody>\n",
       "</table>\n",
       "<p>4234 rows × 10 columns</p>\n",
       "</div>"
      ],
      "text/plain": [
       "       male    age  currentSmoker  totChol  sysBP  diaBP    BMI  heartRate  \\\n",
       "0     False  False          False    False  False  False  False      False   \n",
       "1     False  False          False    False  False  False  False      False   \n",
       "2     False  False          False    False  False  False  False      False   \n",
       "3     False  False          False    False  False  False  False      False   \n",
       "4     False  False          False    False  False  False  False      False   \n",
       "...     ...    ...            ...      ...    ...    ...    ...        ...   \n",
       "4229  False  False          False    False  False  False  False      False   \n",
       "4230  False  False          False    False  False  False  False      False   \n",
       "4231  False  False          False    False  False  False  False      False   \n",
       "4232  False  False          False    False  False  False  False      False   \n",
       "4233  False  False          False    False  False  False  False      False   \n",
       "\n",
       "      glucose  TenYearCHD  \n",
       "0       False       False  \n",
       "1       False       False  \n",
       "2       False       False  \n",
       "3       False       False  \n",
       "4       False       False  \n",
       "...       ...         ...  \n",
       "4229    False       False  \n",
       "4230    False       False  \n",
       "4231    False       False  \n",
       "4232     True       False  \n",
       "4233    False       False  \n",
       "\n",
       "[4234 rows x 10 columns]"
      ]
     },
     "execution_count": 4,
     "metadata": {},
     "output_type": "execute_result"
    }
   ],
   "source": [
    "dataset.isnull()"
   ]
  },
  {
   "cell_type": "code",
   "execution_count": 5,
   "id": "4599c967",
   "metadata": {},
   "outputs": [
    {
     "data": {
      "text/html": [
       "<div>\n",
       "<style scoped>\n",
       "    .dataframe tbody tr th:only-of-type {\n",
       "        vertical-align: middle;\n",
       "    }\n",
       "\n",
       "    .dataframe tbody tr th {\n",
       "        vertical-align: top;\n",
       "    }\n",
       "\n",
       "    .dataframe thead th {\n",
       "        text-align: right;\n",
       "    }\n",
       "</style>\n",
       "<table border=\"1\" class=\"dataframe\">\n",
       "  <thead>\n",
       "    <tr style=\"text-align: right;\">\n",
       "      <th></th>\n",
       "      <th>male</th>\n",
       "      <th>age</th>\n",
       "      <th>currentSmoker</th>\n",
       "      <th>totChol</th>\n",
       "      <th>sysBP</th>\n",
       "      <th>diaBP</th>\n",
       "      <th>BMI</th>\n",
       "      <th>heartRate</th>\n",
       "      <th>glucose</th>\n",
       "      <th>TenYearCHD</th>\n",
       "    </tr>\n",
       "  </thead>\n",
       "  <tbody>\n",
       "    <tr>\n",
       "      <th>count</th>\n",
       "      <td>4234.000000</td>\n",
       "      <td>4234.000000</td>\n",
       "      <td>4234.000000</td>\n",
       "      <td>4184.000000</td>\n",
       "      <td>4234.000000</td>\n",
       "      <td>4234.000000</td>\n",
       "      <td>4215.000000</td>\n",
       "      <td>4233.000000</td>\n",
       "      <td>3847.000000</td>\n",
       "      <td>4234.000000</td>\n",
       "    </tr>\n",
       "    <tr>\n",
       "      <th>mean</th>\n",
       "      <td>0.428909</td>\n",
       "      <td>49.583845</td>\n",
       "      <td>0.494095</td>\n",
       "      <td>236.723231</td>\n",
       "      <td>132.347780</td>\n",
       "      <td>82.886042</td>\n",
       "      <td>25.800624</td>\n",
       "      <td>75.882825</td>\n",
       "      <td>81.976085</td>\n",
       "      <td>0.151630</td>\n",
       "    </tr>\n",
       "    <tr>\n",
       "      <th>std</th>\n",
       "      <td>0.494979</td>\n",
       "      <td>8.575050</td>\n",
       "      <td>0.500024</td>\n",
       "      <td>44.608268</td>\n",
       "      <td>22.046338</td>\n",
       "      <td>11.911857</td>\n",
       "      <td>4.081183</td>\n",
       "      <td>12.031365</td>\n",
       "      <td>23.966195</td>\n",
       "      <td>0.358704</td>\n",
       "    </tr>\n",
       "    <tr>\n",
       "      <th>min</th>\n",
       "      <td>0.000000</td>\n",
       "      <td>32.000000</td>\n",
       "      <td>0.000000</td>\n",
       "      <td>107.000000</td>\n",
       "      <td>83.500000</td>\n",
       "      <td>48.000000</td>\n",
       "      <td>15.540000</td>\n",
       "      <td>44.000000</td>\n",
       "      <td>40.000000</td>\n",
       "      <td>0.000000</td>\n",
       "    </tr>\n",
       "    <tr>\n",
       "      <th>25%</th>\n",
       "      <td>0.000000</td>\n",
       "      <td>42.000000</td>\n",
       "      <td>0.000000</td>\n",
       "      <td>206.000000</td>\n",
       "      <td>117.000000</td>\n",
       "      <td>75.000000</td>\n",
       "      <td>23.070000</td>\n",
       "      <td>68.000000</td>\n",
       "      <td>71.000000</td>\n",
       "      <td>0.000000</td>\n",
       "    </tr>\n",
       "    <tr>\n",
       "      <th>50%</th>\n",
       "      <td>0.000000</td>\n",
       "      <td>49.000000</td>\n",
       "      <td>0.000000</td>\n",
       "      <td>234.000000</td>\n",
       "      <td>128.000000</td>\n",
       "      <td>82.000000</td>\n",
       "      <td>25.400000</td>\n",
       "      <td>75.000000</td>\n",
       "      <td>78.000000</td>\n",
       "      <td>0.000000</td>\n",
       "    </tr>\n",
       "    <tr>\n",
       "      <th>75%</th>\n",
       "      <td>1.000000</td>\n",
       "      <td>56.000000</td>\n",
       "      <td>1.000000</td>\n",
       "      <td>263.000000</td>\n",
       "      <td>144.000000</td>\n",
       "      <td>89.500000</td>\n",
       "      <td>28.040000</td>\n",
       "      <td>83.000000</td>\n",
       "      <td>87.000000</td>\n",
       "      <td>0.000000</td>\n",
       "    </tr>\n",
       "    <tr>\n",
       "      <th>max</th>\n",
       "      <td>1.000000</td>\n",
       "      <td>70.000000</td>\n",
       "      <td>1.000000</td>\n",
       "      <td>696.000000</td>\n",
       "      <td>295.000000</td>\n",
       "      <td>142.500000</td>\n",
       "      <td>56.800000</td>\n",
       "      <td>143.000000</td>\n",
       "      <td>394.000000</td>\n",
       "      <td>1.000000</td>\n",
       "    </tr>\n",
       "  </tbody>\n",
       "</table>\n",
       "</div>"
      ],
      "text/plain": [
       "              male          age  currentSmoker      totChol        sysBP  \\\n",
       "count  4234.000000  4234.000000    4234.000000  4184.000000  4234.000000   \n",
       "mean      0.428909    49.583845       0.494095   236.723231   132.347780   \n",
       "std       0.494979     8.575050       0.500024    44.608268    22.046338   \n",
       "min       0.000000    32.000000       0.000000   107.000000    83.500000   \n",
       "25%       0.000000    42.000000       0.000000   206.000000   117.000000   \n",
       "50%       0.000000    49.000000       0.000000   234.000000   128.000000   \n",
       "75%       1.000000    56.000000       1.000000   263.000000   144.000000   \n",
       "max       1.000000    70.000000       1.000000   696.000000   295.000000   \n",
       "\n",
       "             diaBP          BMI    heartRate      glucose   TenYearCHD  \n",
       "count  4234.000000  4215.000000  4233.000000  3847.000000  4234.000000  \n",
       "mean     82.886042    25.800624    75.882825    81.976085     0.151630  \n",
       "std      11.911857     4.081183    12.031365    23.966195     0.358704  \n",
       "min      48.000000    15.540000    44.000000    40.000000     0.000000  \n",
       "25%      75.000000    23.070000    68.000000    71.000000     0.000000  \n",
       "50%      82.000000    25.400000    75.000000    78.000000     0.000000  \n",
       "75%      89.500000    28.040000    83.000000    87.000000     0.000000  \n",
       "max     142.500000    56.800000   143.000000   394.000000     1.000000  "
      ]
     },
     "execution_count": 5,
     "metadata": {},
     "output_type": "execute_result"
    }
   ],
   "source": [
    "dataset.describe()"
   ]
  },
  {
   "cell_type": "code",
   "execution_count": 6,
   "id": "a20de510",
   "metadata": {},
   "outputs": [],
   "source": [
    "totalcholesterolmean=dataset.totChol.mean()"
   ]
  },
  {
   "cell_type": "code",
   "execution_count": 7,
   "id": "a0398be5",
   "metadata": {},
   "outputs": [],
   "source": [
    "BMImean=dataset.BMI.mean()"
   ]
  },
  {
   "cell_type": "code",
   "execution_count": 8,
   "id": "f5b553b7",
   "metadata": {},
   "outputs": [],
   "source": [
    "heartRatemean=dataset.heartRate.mean()"
   ]
  },
  {
   "cell_type": "code",
   "execution_count": 9,
   "id": "84d70c64",
   "metadata": {},
   "outputs": [],
   "source": [
    "glucosemean=dataset.glucose.mean()"
   ]
  },
  {
   "cell_type": "code",
   "execution_count": 10,
   "id": "674e2ab1",
   "metadata": {},
   "outputs": [],
   "source": [
    "dataset.totChol.fillna(totalcholesterolmean, inplace=True)"
   ]
  },
  {
   "cell_type": "code",
   "execution_count": 11,
   "id": "b52d0203",
   "metadata": {},
   "outputs": [],
   "source": [
    "dataset.BMI.fillna(BMImean, inplace=True)"
   ]
  },
  {
   "cell_type": "code",
   "execution_count": 12,
   "id": "d36d6209",
   "metadata": {},
   "outputs": [],
   "source": [
    "dataset.heartRate.fillna(heartRatemean, inplace=True)"
   ]
  },
  {
   "cell_type": "code",
   "execution_count": 13,
   "id": "b21ff0ff",
   "metadata": {},
   "outputs": [],
   "source": [
    "dataset.glucose.fillna(glucosemean, inplace=True)"
   ]
  },
  {
   "cell_type": "code",
   "execution_count": 14,
   "id": "c7ace20b",
   "metadata": {},
   "outputs": [
    {
     "data": {
      "text/plain": [
       "male             0\n",
       "age              0\n",
       "currentSmoker    0\n",
       "totChol          0\n",
       "sysBP            0\n",
       "diaBP            0\n",
       "BMI              0\n",
       "heartRate        0\n",
       "glucose          0\n",
       "TenYearCHD       0\n",
       "dtype: int64"
      ]
     },
     "execution_count": 14,
     "metadata": {},
     "output_type": "execute_result"
    }
   ],
   "source": [
    "dataset.isnull().sum()"
   ]
  },
  {
   "cell_type": "markdown",
   "id": "793c63be",
   "metadata": {},
   "source": [
    "## A. Linear Regression - Create a model to predict the cholestrol level of a person"
   ]
  },
  {
   "cell_type": "code",
   "execution_count": 15,
   "id": "e27aa410",
   "metadata": {},
   "outputs": [
    {
     "data": {
      "text/plain": [
       "Index(['male', 'age', 'currentSmoker', 'totChol', 'sysBP', 'diaBP', 'BMI',\n",
       "       'heartRate', 'glucose', 'TenYearCHD'],\n",
       "      dtype='object')"
      ]
     },
     "execution_count": 15,
     "metadata": {},
     "output_type": "execute_result"
    }
   ],
   "source": [
    "dataset.columns"
   ]
  },
  {
   "cell_type": "markdown",
   "id": "576710cb",
   "metadata": {},
   "source": [
    "### Create independent and dependent variables to predict "
   ]
  },
  {
   "cell_type": "code",
   "execution_count": 16,
   "id": "0516c74e",
   "metadata": {},
   "outputs": [],
   "source": [
    "x=dataset[['male','age','currentSmoker','sysBP','diaBP','BMI','heartRate','glucose','TenYearCHD']]"
   ]
  },
  {
   "cell_type": "code",
   "execution_count": 17,
   "id": "a8ab8f48",
   "metadata": {},
   "outputs": [],
   "source": [
    "y=dataset[['totChol']]"
   ]
  },
  {
   "cell_type": "markdown",
   "id": "da73830c",
   "metadata": {
    "colab_type": "text",
    "id": "YvxIPVyMhmKp"
   },
   "source": [
    "## Splitting the dataset into the Training set and Test set"
   ]
  },
  {
   "cell_type": "code",
   "execution_count": 18,
   "id": "a75c397d",
   "metadata": {},
   "outputs": [],
   "source": [
    "from sklearn.model_selection import train_test_split\n"
   ]
  },
  {
   "cell_type": "code",
   "execution_count": 38,
   "id": "e274dd49",
   "metadata": {},
   "outputs": [],
   "source": [
    "x_train,x_test,y_train,y_test = train_test_split(x,y,test_size=.20,random_state=0)\n"
   ]
  },
  {
   "cell_type": "code",
   "execution_count": 39,
   "id": "8dbc9031",
   "metadata": {},
   "outputs": [
    {
     "data": {
      "text/plain": [
       "LinearRegression()"
      ]
     },
     "execution_count": 39,
     "metadata": {},
     "output_type": "execute_result"
    }
   ],
   "source": [
    "from sklearn.linear_model import LinearRegression\n",
    "\n",
    "regressor=LinearRegression()\n",
    "#.fit to train your model\n",
    "regressor.fit(x_train.values,y_train)"
   ]
  },
  {
   "cell_type": "code",
   "execution_count": 40,
   "id": "0d2daeaa",
   "metadata": {},
   "outputs": [
    {
     "name": "stdout",
     "output_type": "stream",
     "text": [
      "Coefficient: [[-7.69389556  1.17839024  2.23080452  0.0846499   0.25580816  0.62710148\n",
      "   0.14239754  0.03052255  0.63724312]]\n"
     ]
    }
   ],
   "source": [
    "print(f\"Coefficient: {regressor.coef_}\")"
   ]
  },
  {
   "cell_type": "code",
   "execution_count": 41,
   "id": "fb746ac8",
   "metadata": {},
   "outputs": [],
   "source": [
    "y_pred=regressor.predict(x_test.values)\n"
   ]
  },
  {
   "cell_type": "code",
   "execution_count": 42,
   "id": "8deac883",
   "metadata": {},
   "outputs": [],
   "source": [
    "from sklearn.metrics import mean_squared_error, r2_score\n",
    "import math"
   ]
  },
  {
   "cell_type": "markdown",
   "id": "cda193ba",
   "metadata": {},
   "source": [
    "## Training the Linear Regression model "
   ]
  },
  {
   "cell_type": "code",
   "execution_count": null,
   "id": "bbd264c2",
   "metadata": {},
   "outputs": [],
   "source": []
  },
  {
   "cell_type": "markdown",
   "id": "cfc79ab9",
   "metadata": {},
   "source": [
    "## Model performance check- R Square and RMSE score"
   ]
  },
  {
   "cell_type": "code",
   "execution_count": 43,
   "id": "2436c018",
   "metadata": {},
   "outputs": [
    {
     "name": "stdout",
     "output_type": "stream",
     "text": [
      "RMSE: 45.21\n"
     ]
    }
   ],
   "source": [
    "print(F\"RMSE: {math.sqrt(mean_squared_error(y_test,y_pred)):.2f}\")\n"
   ]
  },
  {
   "cell_type": "code",
   "execution_count": 44,
   "id": "55d7f80f",
   "metadata": {},
   "outputs": [
    {
     "name": "stdout",
     "output_type": "stream",
     "text": [
      "R-square: 0.06\n"
     ]
    }
   ],
   "source": [
    "print(f\"R-square: {r2_score(y_test,y_pred):.2f}\")\n"
   ]
  },
  {
   "attachments": {
    "image-2.png": {
     "image/png": "[encoded data removed]"
    }
   },
   "cell_type": "markdown",
   "id": "6da8b409",
   "metadata": {
    "colab_type": "text",
    "id": "yyxW5b395mR2"
   },
   "source": [
    "## Predicting new results where the actual results are given\n",
    "![image-2.png](attachment:image-2.png)"
   ]
  },
  {
   "cell_type": "code",
   "execution_count": 45,
   "id": "fd71468c",
   "metadata": {},
   "outputs": [
    {
     "data": {
      "text/plain": [
       "array([[229.4528633]])"
      ]
     },
     "execution_count": 45,
     "metadata": {},
     "output_type": "execute_result"
    }
   ],
   "source": [
    "# case 1 actual 217\n",
    "regressor.predict([[1,44,1,144,99,25.16,68,60,0]])"
   ]
  },
  {
   "cell_type": "code",
   "execution_count": 46,
   "id": "78935eeb",
   "metadata": {},
   "outputs": [
    {
     "data": {
      "text/plain": [
       "array([[236.96454907]])"
      ]
     },
     "execution_count": 46,
     "metadata": {},
     "output_type": "execute_result"
    }
   ],
   "source": [
    "# case 2 actual 249\n",
    "regressor.predict([[1,50,1,133,88,28.5,75,75,1]])"
   ]
  },
  {
   "cell_type": "code",
   "execution_count": 47,
   "id": "8d045d24",
   "metadata": {},
   "outputs": [
    {
     "data": {
      "text/plain": [
       "array([[245.17524904]])"
      ]
     },
     "execution_count": 47,
     "metadata": {},
     "output_type": "execute_result"
    }
   ],
   "source": [
    "# case 3 actual 256\n",
    "regressor.predict([[1,56,0,147,96,30.42,72,75,0]])"
   ]
  },
  {
   "cell_type": "markdown",
   "id": "b097d7c3",
   "metadata": {},
   "source": [
    "## B. Logistic Regression - Create a model to predict the 10 year risk of coronary heart disease CHD of a person"
   ]
  },
  {
   "cell_type": "code",
   "execution_count": 52,
   "id": "de303b1b",
   "metadata": {},
   "outputs": [],
   "source": []
  },
  {
   "cell_type": "markdown",
   "id": "97e40a21",
   "metadata": {},
   "source": [
    "### Create independent and dependent variables to predict"
   ]
  },
  {
   "cell_type": "code",
   "execution_count": 56,
   "id": "9564b91c",
   "metadata": {},
   "outputs": [],
   "source": [
    "x=dataset[['male','age','currentSmoker','totChol','sysBP','diaBP','BMI','heartRate','glucose']]\n",
    "y=dataset[['TenYearCHD']]"
   ]
  },
  {
   "cell_type": "markdown",
   "id": "f02d58c5",
   "metadata": {},
   "source": [
    "## Splitting the dataset into the Training set and Test set"
   ]
  },
  {
   "cell_type": "code",
   "execution_count": 57,
   "id": "23f327b4",
   "metadata": {},
   "outputs": [],
   "source": [
    "x_train,x_test,y_train,y_test = train_test_split(x,y,test_size=.33,random_state=0)"
   ]
  },
  {
   "cell_type": "markdown",
   "id": "f432947f",
   "metadata": {
    "colab_type": "text",
    "id": "bb6jCOCQiAmP"
   },
   "source": [
    "## Training the Logistic Regression model "
   ]
  },
  {
   "cell_type": "code",
   "execution_count": 58,
   "id": "9763d93c",
   "metadata": {},
   "outputs": [
    {
     "name": "stderr",
     "output_type": "stream",
     "text": [
      "C:\\Users\\jguth\\anaconda3\\lib\\site-packages\\sklearn\\utils\\validation.py:993: DataConversionWarning: A column-vector y was passed when a 1d array was expected. Please change the shape of y to (n_samples, ), for example using ravel().\n",
      "  y = column_or_1d(y, warn=True)\n",
      "C:\\Users\\jguth\\anaconda3\\lib\\site-packages\\sklearn\\linear_model\\_logistic.py:814: ConvergenceWarning: lbfgs failed to converge (status=1):\n",
      "STOP: TOTAL NO. of ITERATIONS REACHED LIMIT.\n",
      "\n",
      "Increase the number of iterations (max_iter) or scale the data as shown in:\n",
      "    https://scikit-learn.org/stable/modules/preprocessing.html\n",
      "Please also refer to the documentation for alternative solver options:\n",
      "    https://scikit-learn.org/stable/modules/linear_model.html#logistic-regression\n",
      "  n_iter_i = _check_optimize_result(\n"
     ]
    },
    {
     "data": {
      "text/plain": [
       "LogisticRegression()"
      ]
     },
     "execution_count": 58,
     "metadata": {},
     "output_type": "execute_result"
    }
   ],
   "source": [
    "from sklearn.linear_model import LogisticRegression\n",
    "classifier=LogisticRegression()\n",
    "classifier.fit(x_train.values,y_train)"
   ]
  },
  {
   "cell_type": "code",
   "execution_count": 63,
   "id": "b7a56e7c",
   "metadata": {},
   "outputs": [],
   "source": [
    "y_pred=classifier.predict(x_test.values)"
   ]
  },
  {
   "cell_type": "markdown",
   "id": "08f60a49",
   "metadata": {},
   "source": [
    "### Model Performance check using Confusion matrix, Confusion matrix display and classification report"
   ]
  },
  {
   "cell_type": "code",
   "execution_count": 64,
   "id": "4571f667",
   "metadata": {},
   "outputs": [
    {
     "name": "stdout",
     "output_type": "stream",
     "text": [
      "[[1179    3]\n",
      " [ 208    8]]\n"
     ]
    }
   ],
   "source": [
    "from sklearn.metrics import confusion_matrix, classification_report, ConfusionMatrixDisplay\n",
    "cm=confusion_matrix(y_test, y_pred)\n",
    "print(cm)"
   ]
  },
  {
   "cell_type": "code",
   "execution_count": 65,
   "id": "589e5e65",
   "metadata": {},
   "outputs": [
    {
     "data": {
      "text/html": [
       "<div>\n",
       "<style scoped>\n",
       "    .dataframe tbody tr th:only-of-type {\n",
       "        vertical-align: middle;\n",
       "    }\n",
       "\n",
       "    .dataframe tbody tr th {\n",
       "        vertical-align: top;\n",
       "    }\n",
       "\n",
       "    .dataframe thead th {\n",
       "        text-align: right;\n",
       "    }\n",
       "</style>\n",
       "<table border=\"1\" class=\"dataframe\">\n",
       "  <thead>\n",
       "    <tr style=\"text-align: right;\">\n",
       "      <th></th>\n",
       "      <th>TenYearCHD</th>\n",
       "    </tr>\n",
       "  </thead>\n",
       "  <tbody>\n",
       "    <tr>\n",
       "      <th>3554</th>\n",
       "      <td>0</td>\n",
       "    </tr>\n",
       "    <tr>\n",
       "      <th>410</th>\n",
       "      <td>0</td>\n",
       "    </tr>\n",
       "    <tr>\n",
       "      <th>3868</th>\n",
       "      <td>1</td>\n",
       "    </tr>\n",
       "    <tr>\n",
       "      <th>1487</th>\n",
       "      <td>0</td>\n",
       "    </tr>\n",
       "    <tr>\n",
       "      <th>840</th>\n",
       "      <td>1</td>\n",
       "    </tr>\n",
       "    <tr>\n",
       "      <th>...</th>\n",
       "      <td>...</td>\n",
       "    </tr>\n",
       "    <tr>\n",
       "      <th>3829</th>\n",
       "      <td>1</td>\n",
       "    </tr>\n",
       "    <tr>\n",
       "      <th>2527</th>\n",
       "      <td>0</td>\n",
       "    </tr>\n",
       "    <tr>\n",
       "      <th>349</th>\n",
       "      <td>0</td>\n",
       "    </tr>\n",
       "    <tr>\n",
       "      <th>2100</th>\n",
       "      <td>0</td>\n",
       "    </tr>\n",
       "    <tr>\n",
       "      <th>2842</th>\n",
       "      <td>1</td>\n",
       "    </tr>\n",
       "  </tbody>\n",
       "</table>\n",
       "<p>1398 rows × 1 columns</p>\n",
       "</div>"
      ],
      "text/plain": [
       "      TenYearCHD\n",
       "3554           0\n",
       "410            0\n",
       "3868           1\n",
       "1487           0\n",
       "840            1\n",
       "...          ...\n",
       "3829           1\n",
       "2527           0\n",
       "349            0\n",
       "2100           0\n",
       "2842           1\n",
       "\n",
       "[1398 rows x 1 columns]"
      ]
     },
     "execution_count": 65,
     "metadata": {},
     "output_type": "execute_result"
    }
   ],
   "source": [
    "y_test"
   ]
  },
  {
   "cell_type": "code",
   "execution_count": 66,
   "id": "a67e3ff9",
   "metadata": {},
   "outputs": [
    {
     "data": {
      "text/plain": [
       "array([0, 0, 0, ..., 0, 0, 0], dtype=int64)"
      ]
     },
     "execution_count": 66,
     "metadata": {},
     "output_type": "execute_result"
    }
   ],
   "source": [
    "y_pred"
   ]
  },
  {
   "cell_type": "code",
   "execution_count": 67,
   "id": "ef75cf89",
   "metadata": {},
   "outputs": [
    {
     "data": {
      "text/plain": [
       "array([0, 1], dtype=int64)"
      ]
     },
     "execution_count": 67,
     "metadata": {},
     "output_type": "execute_result"
    }
   ],
   "source": [
    "classifier.classes_"
   ]
  },
  {
   "cell_type": "code",
   "execution_count": 68,
   "id": "1581acdb",
   "metadata": {},
   "outputs": [
    {
     "data": {
      "image/png": "[encoded data removed]",
      "text/plain": [
       "<Figure size 640x480 with 2 Axes>"
      ]
     },
     "metadata": {},
     "output_type": "display_data"
    }
   ],
   "source": [
    "disp=ConfusionMatrixDisplay(confusion_matrix=cm,\n",
    "                           display_labels=classifier.classes_)\n",
    "disp.plot()\n",
    "plt.show()"
   ]
  },
  {
   "cell_type": "markdown",
   "id": "10bd8987",
   "metadata": {},
   "source": [
    "### Discuss the results"
   ]
  },
  {
   "cell_type": "markdown",
   "id": "c5e50c95",
   "metadata": {},
   "source": [
    "1179 people still had a risk for   coronary heart disease after 10 years"
   ]
  },
  {
   "attachments": {
    "image.png": {
     "image/png": "[encoded data removed]"
    }
   },
   "cell_type": "markdown",
   "id": "bffe51c7",
   "metadata": {},
   "source": [
    "## Predicting new results where the actual results are given\n",
    "![image.png](attachment:image.png)"
   ]
  },
  {
   "cell_type": "code",
   "execution_count": 70,
   "id": "972c9991",
   "metadata": {},
   "outputs": [
    {
     "data": {
      "text/plain": [
       "array([0], dtype=int64)"
      ]
     },
     "execution_count": 70,
     "metadata": {},
     "output_type": "execute_result"
    }
   ],
   "source": [
    "classifier.predict([[1,44,1,217,144,99,25.16,68,60]])"
   ]
  },
  {
   "cell_type": "code",
   "execution_count": 71,
   "id": "2cb4b093",
   "metadata": {},
   "outputs": [
    {
     "data": {
      "text/plain": [
       "array([0], dtype=int64)"
      ]
     },
     "execution_count": 71,
     "metadata": {},
     "output_type": "execute_result"
    }
   ],
   "source": [
    "classifier.predict([[1,50,1,249,133,88,28.5,75,75]])"
   ]
  },
  {
   "cell_type": "code",
   "execution_count": 72,
   "id": "d5e57bf5",
   "metadata": {},
   "outputs": [
    {
     "data": {
      "text/plain": [
       "array([0], dtype=int64)"
      ]
     },
     "execution_count": 72,
     "metadata": {},
     "output_type": "execute_result"
    }
   ],
   "source": [
    "classifier.predict([[1,56,0,256,147,96,30.42,72,75]])"
   ]
  },
  {
   "cell_type": "markdown",
   "id": "c59e424f",
   "metadata": {},
   "source": [
    "### Summary"
   ]
  },
  {
   "cell_type": "code",
   "execution_count": 73,
   "id": "b81d1940",
   "metadata": {},
   "outputs": [
    {
     "name": "stdout",
     "output_type": "stream",
     "text": [
      "              precision    recall  f1-score   support\n",
      "\n",
      "           0       0.85      1.00      0.92      1182\n",
      "           1       0.73      0.04      0.07       216\n",
      "\n",
      "    accuracy                           0.85      1398\n",
      "   macro avg       0.79      0.52      0.49      1398\n",
      "weighted avg       0.83      0.85      0.79      1398\n",
      "\n"
     ]
    }
   ],
   "source": [
    "print(classification_report(y_test,y_pred))"
   ]
  },
  {
   "cell_type": "markdown",
   "id": "58da3f5a",
   "metadata": {},
   "source": [
    "It is not terribly accurate. only 2 of the 3 predictions were correct. However, in terms of the work itself, my teammates helped me quite a bit. Good work, less good results, though that may be chalked up to poor luck on my end"
   ]
  },
  {
   "cell_type": "code",
   "execution_count": null,
   "id": "d05574a9",
   "metadata": {},
   "outputs": [],
   "source": []
  }
 ],
 "metadata": {
  "kernelspec": {
   "display_name": "Python 3 (ipykernel)",
   "language": "python",
   "name": "python3"
  },
  "language_info": {
   "codemirror_mode": {
    "name": "ipython",
    "version": 3
   },
   "file_extension": ".py",
   "mimetype": "text/x-python",
   "name": "python",
   "nbconvert_exporter": "python",
   "pygments_lexer": "ipython3",
   "version": "3.9.13"
  }
 },
 "nbformat": 4,
 "nbformat_minor": 5
}
